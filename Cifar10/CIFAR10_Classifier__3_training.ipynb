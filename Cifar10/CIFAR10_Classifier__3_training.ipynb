{
 "cells": [
  {
   "cell_type": "markdown",
   "metadata": {},
   "source": [
    "# CIFAR10 Classifier. Training\n",
    "\n",
    "\n",
    "This is the third part of the tutorial on how to train a classifier on CIFAR10 dataset. \n",
    "\n",
    "Here we will assemble the results of two previous parts and train a model on CIFAR10.\n",
    "\n",
    "- Setup dataflow\n",
    "- Setup model: SqueezeNet v1.1\n",
    "- Setup loss function and optimizer\n",
    "- Setup training pipeline\n",
    "    - Training\n",
    "    - Inference\n",
    "\n",
    "References:\n",
    "- [pytorch-examples/imagenet](https://github.com/pytorch/examples/blob/master/imagenet/main.py)\n",
    "- [pytorch-transfer learning](http://pytorch.org/tutorials/beginner/transfer_learning_tutorial.html#sphx-glr-beginner-transfer-learning-tutorial-py)\n"
   ]
  },
  {
   "cell_type": "code",
   "execution_count": 1,
   "metadata": {},
   "outputs": [],
   "source": [
    "# https://ipython.org/ipython-doc/3/config/extensions/autoreload.html\n",
    "%load_ext autoreload\n",
    "%autoreload 2"
   ]
  },
  {
   "cell_type": "code",
   "execution_count": 2,
   "metadata": {},
   "outputs": [],
   "source": [
    "import os, sys\n",
    "import torch\n",
    "import torchvision"
   ]
  },
  {
   "cell_type": "code",
   "execution_count": 3,
   "metadata": {},
   "outputs": [],
   "source": [
    "import numpy as np\n",
    "import matplotlib.pylab as plt\n",
    "%matplotlib inline"
   ]
  },
  {
   "cell_type": "code",
   "execution_count": 4,
   "metadata": {},
   "outputs": [],
   "source": [
    "os.environ['CIFAR10_ROOT'] = '/media/user/fast_storage/tensorpack_data/cifar10_data/'\n",
    "CIFAR10_ROOT = os.environ['CIFAR10_ROOT']"
   ]
  },
  {
   "cell_type": "code",
   "execution_count": 5,
   "metadata": {},
   "outputs": [],
   "source": [
    "sys.path.append(\"..\")"
   ]
  },
  {
   "cell_type": "markdown",
   "metadata": {},
   "source": [
    "## Setup dataflow\n",
    "\n",
    "Again, we have two CIFAR10 datasets: `training` and `testing`. Next, we :\n",
    "- separate training dataset using stratified split into `n` folds of `training` and `validation` datasets.\n",
    "- apply data augmentations\n",
    "- gather data in batches\n",
    "- all previous operations using multiprocessing\n",
    "- load on GPU\n",
    "\n",
    "We won't iterate over folds and consider only the first fold\n"
   ]
  },
  {
   "cell_type": "code",
   "execution_count": 6,
   "metadata": {},
   "outputs": [],
   "source": [
    "from torchvision.transforms import Compose, Normalize, ToTensor, Lambda\n",
    "from torch.utils.data.sampler import SubsetRandomSampler\n",
    "from torch.utils.data import DataLoader\n",
    "\n",
    "from common_utils.dataflow import TransformedDataset, OnGPUDataLoader\n",
    "from common_utils.imgaug import ToNumpy, RandomOrder, RandomChoice, RandomFlip, RandomAffine, ColorJitter"
   ]
  },
  {
   "cell_type": "code",
   "execution_count": 7,
   "metadata": {},
   "outputs": [],
   "source": [
    "# Raw datasets: training and testing\n",
    "train_ds = torchvision.datasets.CIFAR10(root=CIFAR10_ROOT, train=True, download=False)\n",
    "test_ds = torchvision.datasets.CIFAR10(root=CIFAR10_ROOT, train=False, download=False)"
   ]
  },
  {
   "cell_type": "markdown",
   "metadata": {},
   "source": [
    "Let's again resize input images to 42x42. Most of common state-of-the-art architectures requires input images larger than 224x224. Smaller input images will produce zero-size feature maps."
   ]
  },
  {
   "cell_type": "code",
   "execution_count": 8,
   "metadata": {},
   "outputs": [],
   "source": [
    "from PIL import Image\n",
    "from torch.utils.data import Dataset\n",
    "\n",
    "class ResizeDataset(Dataset):\n",
    "    \n",
    "    def __init__(self, ds, output_size=(32, 32)):        \n",
    "        assert isinstance(ds, Dataset)        \n",
    "        self.ds = ds\n",
    "        self.output_size = output_size\n",
    "        \n",
    "    def __len__(self):\n",
    "        return len(self.ds)\n",
    "    \n",
    "    def __getitem__(self, index):\n",
    "        x, y = self.ds[index]\n",
    "        x = x.resize(self.output_size)\n",
    "        return x, y"
   ]
  },
  {
   "cell_type": "code",
   "execution_count": 9,
   "metadata": {},
   "outputs": [],
   "source": [
    "resized_train_ds = ResizeDataset(train_ds, output_size=(42, 42))\n",
    "resized_test_ds = ResizeDataset(test_ds, output_size=(42, 42))"
   ]
  },
  {
   "cell_type": "code",
   "execution_count": 10,
   "metadata": {},
   "outputs": [],
   "source": [
    "from sklearn.model_selection import StratifiedKFold\n",
    "\n",
    "n_samples = len(resized_train_ds)\n",
    "X = np.zeros(n_samples)\n",
    "Y = np.zeros(n_samples)\n",
    "for i, (_, label) in enumerate(resized_train_ds):\n",
    "    Y[i] = label\n",
    "\n",
    "kfolds_train_indices = []\n",
    "kfolds_val_indices = []\n",
    "    \n",
    "skf = StratifiedKFold(n_splits=5, shuffle=True, random_state=12345)\n",
    "for train_indices, val_indices in skf.split(X, Y):\n",
    "    kfolds_train_indices.append(train_indices)\n",
    "    kfolds_val_indices.append(val_indices)  \n",
    "    \n",
    "kfold_samplers = []\n",
    "for train_indices, val_indices in zip(kfolds_train_indices, kfolds_val_indices):\n",
    "    kfold_samplers.append({\"train\": SubsetRandomSampler(train_indices), \n",
    "                           \"val\": SubsetRandomSampler(val_indices)})"
   ]
  },
  {
   "cell_type": "code",
   "execution_count": 11,
   "metadata": {},
   "outputs": [],
   "source": [
    "# Data augmentations :\n",
    "# following pytorch.org/docs/master/torchvision/models.html\n",
    "mean_val = [0.485, 0.456, 0.406]\n",
    "std_val = [0.229, 0.224, 0.225]\n",
    "\n",
    "# Setup data augmentations\n",
    "train_transforms = Compose([\n",
    "    ToNumpy(),\n",
    "    # Geometry\n",
    "    RandomChoice([\n",
    "        RandomAffine(rotation=(-60, 60), scale=(0.95, 1.05), translate=(0.05, 0.05)),\n",
    "        RandomFlip(proba=0.5, mode='h'),\n",
    "        RandomFlip(proba=0.5, mode='v'),        \n",
    "    ]),    \n",
    "    # To Tensor (float, CxHxW, [0.0, 1.0]) + Normalize\n",
    "    ToTensor(),\n",
    "    # Color\n",
    "    ColorJitter(brightness=0.4, contrast=0.4, saturation=0.4),\n",
    "    Normalize(mean_val, std_val)\n",
    "])\n",
    "  \n",
    "\n",
    "test_transforms = Compose([\n",
    "    ToNumpy(),    \n",
    "    # Geometry\n",
    "    RandomChoice([\n",
    "        RandomAffine(rotation=(-60, 60), scale=(0.95, 1.05), translate=(0.05, 0.05)),\n",
    "        RandomFlip(proba=0.5, mode='h'),\n",
    "        RandomFlip(proba=0.5, mode='v'),        \n",
    "    ]),        \n",
    "    # To Tensor (float, CxHxW, [0.0, 1.0])  + Normalize\n",
    "    ToTensor(),\n",
    "    # Color\n",
    "    ColorJitter(brightness=0.15, contrast=0.15, saturation=0.15),\n",
    "    Normalize(mean_val, std_val)\n",
    "])"
   ]
  },
  {
   "cell_type": "code",
   "execution_count": 12,
   "metadata": {},
   "outputs": [],
   "source": [
    "data_aug_train_ds = TransformedDataset(resized_train_ds, x_transforms=train_transforms)\n",
    "data_aug_val_ds = TransformedDataset(resized_train_ds, x_transforms=test_transforms)\n",
    "data_aug_test_ds = TransformedDataset(resized_test_ds, x_transforms=test_transforms)"
   ]
  },
  {
   "cell_type": "code",
   "execution_count": 13,
   "metadata": {},
   "outputs": [],
   "source": [
    "split_index = 0 \n",
    "\n",
    "_DataLoader = OnGPUDataLoader if torch.cuda.is_available() else DataLoader\n",
    "    \n",
    "    \n",
    "train_batches_ds = _DataLoader(data_aug_train_ds, \n",
    "                               batch_size=64, \n",
    "                               sampler=kfold_samplers[split_index][\"train\"], \n",
    "                               num_workers=0, \n",
    "                               drop_last=True, \n",
    "                               pin_memory=False)\n",
    "\n",
    "val_batches_ds = _DataLoader(data_aug_val_ds, \n",
    "                             batch_size=64, \n",
    "                             sampler=kfold_samplers[split_index][\"val\"], \n",
    "                             num_workers=0, \n",
    "                             drop_last=True, \n",
    "                             pin_memory=False)\n",
    "\n",
    "test_batches_ds = _DataLoader(data_aug_test_ds, \n",
    "                              batch_size=64, \n",
    "                              num_workers=0, \n",
    "                              drop_last=True, \n",
    "                              pin_memory=False)"
   ]
  },
  {
   "cell_type": "markdown",
   "metadata": {},
   "source": [
    "Let's check again training classes distribution:"
   ]
  },
  {
   "cell_type": "code",
   "execution_count": 14,
   "metadata": {},
   "outputs": [],
   "source": [
    "import matplotlib.pylab as plt\n",
    "%matplotlib inline\n",
    "\n",
    "import seaborn as sns"
   ]
  },
  {
   "cell_type": "code",
   "execution_count": 15,
   "metadata": {},
   "outputs": [],
   "source": [
    "from tqdm import tqdm"
   ]
  },
  {
   "cell_type": "code",
   "execution_count": 16,
   "metadata": {},
   "outputs": [
    {
     "name": "stderr",
     "output_type": "stream",
     "text": [
      "100%|██████████| 625/625 [00:14<00:00, 43.43it/s, c0: 5 | c1: 3]]]\n"
     ]
    }
   ],
   "source": [
    "n_classes = 10\n",
    "mean_n_classes = []\n",
    "std_n_classes = []\n",
    "cnt = 0\n",
    "\n",
    "classes_stats_per_batches = np.zeros((len(train_batches_ds), n_classes), dtype=np.int)\n",
    "\n",
    "pbar = tqdm(total=len(train_batches_ds))\n",
    "for i, (batch_x, batch_y) in enumerate(train_batches_ds):\n",
    "    for y in batch_y:\n",
    "        classes_stats_per_batches[i, y] += 1\n",
    "\n",
    "    postfix_str = \"c0: %i | c1: %i\" % (classes_stats_per_batches[i, 0], classes_stats_per_batches[i, 1])\n",
    "    pbar.set_postfix_str(postfix_str, refresh=True)\n",
    "    pbar.update(1)    \n",
    "    \n",
    "pbar.close()"
   ]
  },
  {
   "cell_type": "code",
   "execution_count": 17,
   "metadata": {},
   "outputs": [
    {
     "data": {
      "text/plain": [
       "<matplotlib.axes._subplots.AxesSubplot at 0x7f2cf4034390>"
      ]
     },
     "execution_count": 17,
     "metadata": {},
     "output_type": "execute_result"
    },
    {
     "data": {
      "image/png": "[encoded data removed]",
      "text/plain": [
       "<matplotlib.figure.Figure at 0x7f2cf452a7f0>"
      ]
     },
     "metadata": {},
     "output_type": "display_data"
    }
   ],
   "source": [
    "sns.boxplot(data=classes_stats_per_batches, palette=\"PRGn\")"
   ]
  },
  {
   "cell_type": "code",
   "execution_count": 18,
   "metadata": {},
   "outputs": [
    {
     "data": {
      "text/plain": [
       "[<matplotlib.lines.Line2D at 0x7f2cf0433ef0>]"
      ]
     },
     "execution_count": 18,
     "metadata": {},
     "output_type": "execute_result"
    },
    {
     "data": {
      "image/png": "[encoded data removed]",
      "text/plain": [
       "<matplotlib.figure.Figure at 0x7f2d853b0208>"
      ]
     },
     "metadata": {},
     "output_type": "display_data"
    }
   ],
   "source": [
    "mean_n_classes = np.mean(np.cumsum(classes_stats_per_batches, axis=0), axis=1)\n",
    "std_n_classes = np.std(np.cumsum(classes_stats_per_batches, axis=0), axis=1)\n",
    "\n",
    "plt.plot(mean_n_classes)\n",
    "plt.plot(mean_n_classes + 3.0 * std_n_classes)\n",
    "plt.plot(mean_n_classes - 3.0 * std_n_classes)"
   ]
  },
  {
   "cell_type": "code",
   "execution_count": null,
   "metadata": {},
   "outputs": [],
   "source": []
  },
  {
   "cell_type": "markdown",
   "metadata": {},
   "source": [
    "## Setup model\n",
    "\n",
    "Let's load a small neural network \"SqueezeNet\" that has only ~700K parameters, showing performances similar to AlexNet:\n",
    "- Top-1 ImageNet Accuracy: 57.5% vs 57.2% (AlexNet)\n",
    "- Top-5 ImageNet Accuracy: 80.3% vs 80.3% (AlexNet)\n",
    "\n",
    "References:\n",
    "- [paper](https://arxiv.org/pdf/1602.07360.pdf)"
   ]
  },
  {
   "cell_type": "code",
   "execution_count": 16,
   "metadata": {},
   "outputs": [],
   "source": [
    "from torchvision.models import SqueezeNet\n",
    "\n",
    "from common_utils.nn_utils import print_trainable_parameters"
   ]
  },
  {
   "cell_type": "code",
   "execution_count": 17,
   "metadata": {
    "scrolled": true
   },
   "outputs": [
    {
     "name": "stdout",
     "output_type": "stream",
     "text": [
      "SqueezeNet (\n",
      "  (features): Sequential (\n",
      "    (0): Conv2d(3, 64, kernel_size=(3, 3), stride=(2, 2))\n",
      "    (1): ReLU (inplace)\n",
      "    (2): MaxPool2d (size=(3, 3), stride=(2, 2), dilation=(1, 1))\n",
      "    (3): Fire (\n",
      "      (squeeze): Conv2d(64, 16, kernel_size=(1, 1), stride=(1, 1))\n",
      "      (squeeze_activation): ReLU (inplace)\n",
      "      (expand1x1): Conv2d(16, 64, kernel_size=(1, 1), stride=(1, 1))\n",
      "      (expand1x1_activation): ReLU (inplace)\n",
      "      (expand3x3): Conv2d(16, 64, kernel_size=(3, 3), stride=(1, 1), padding=(1, 1))\n",
      "      (expand3x3_activation): ReLU (inplace)\n",
      "    )\n",
      "    (4): Fire (\n",
      "      (squeeze): Conv2d(128, 16, kernel_size=(1, 1), stride=(1, 1))\n",
      "      (squeeze_activation): ReLU (inplace)\n",
      "      (expand1x1): Conv2d(16, 64, kernel_size=(1, 1), stride=(1, 1))\n",
      "      (expand1x1_activation): ReLU (inplace)\n",
      "      (expand3x3): Conv2d(16, 64, kernel_size=(3, 3), stride=(1, 1), padding=(1, 1))\n",
      "      (expand3x3_activation): ReLU (inplace)\n",
      "    )\n",
      "    (5): MaxPool2d (size=(3, 3), stride=(2, 2), dilation=(1, 1))\n",
      "    (6): Fire (\n",
      "      (squeeze): Conv2d(128, 32, kernel_size=(1, 1), stride=(1, 1))\n",
      "      (squeeze_activation): ReLU (inplace)\n",
      "      (expand1x1): Conv2d(32, 128, kernel_size=(1, 1), stride=(1, 1))\n",
      "      (expand1x1_activation): ReLU (inplace)\n",
      "      (expand3x3): Conv2d(32, 128, kernel_size=(3, 3), stride=(1, 1), padding=(1, 1))\n",
      "      (expand3x3_activation): ReLU (inplace)\n",
      "    )\n",
      "    (7): Fire (\n",
      "      (squeeze): Conv2d(256, 32, kernel_size=(1, 1), stride=(1, 1))\n",
      "      (squeeze_activation): ReLU (inplace)\n",
      "      (expand1x1): Conv2d(32, 128, kernel_size=(1, 1), stride=(1, 1))\n",
      "      (expand1x1_activation): ReLU (inplace)\n",
      "      (expand3x3): Conv2d(32, 128, kernel_size=(3, 3), stride=(1, 1), padding=(1, 1))\n",
      "      (expand3x3_activation): ReLU (inplace)\n",
      "    )\n",
      "    (8): MaxPool2d (size=(3, 3), stride=(2, 2), dilation=(1, 1))\n",
      "    (9): Fire (\n",
      "      (squeeze): Conv2d(256, 48, kernel_size=(1, 1), stride=(1, 1))\n",
      "      (squeeze_activation): ReLU (inplace)\n",
      "      (expand1x1): Conv2d(48, 192, kernel_size=(1, 1), stride=(1, 1))\n",
      "      (expand1x1_activation): ReLU (inplace)\n",
      "      (expand3x3): Conv2d(48, 192, kernel_size=(3, 3), stride=(1, 1), padding=(1, 1))\n",
      "      (expand3x3_activation): ReLU (inplace)\n",
      "    )\n",
      "    (10): Fire (\n",
      "      (squeeze): Conv2d(384, 48, kernel_size=(1, 1), stride=(1, 1))\n",
      "      (squeeze_activation): ReLU (inplace)\n",
      "      (expand1x1): Conv2d(48, 192, kernel_size=(1, 1), stride=(1, 1))\n",
      "      (expand1x1_activation): ReLU (inplace)\n",
      "      (expand3x3): Conv2d(48, 192, kernel_size=(3, 3), stride=(1, 1), padding=(1, 1))\n",
      "      (expand3x3_activation): ReLU (inplace)\n",
      "    )\n",
      "    (11): Fire (\n",
      "      (squeeze): Conv2d(384, 64, kernel_size=(1, 1), stride=(1, 1))\n",
      "      (squeeze_activation): ReLU (inplace)\n",
      "      (expand1x1): Conv2d(64, 256, kernel_size=(1, 1), stride=(1, 1))\n",
      "      (expand1x1_activation): ReLU (inplace)\n",
      "      (expand3x3): Conv2d(64, 256, kernel_size=(3, 3), stride=(1, 1), padding=(1, 1))\n",
      "      (expand3x3_activation): ReLU (inplace)\n",
      "    )\n",
      "    (12): Fire (\n",
      "      (squeeze): Conv2d(512, 64, kernel_size=(1, 1), stride=(1, 1))\n",
      "      (squeeze_activation): ReLU (inplace)\n",
      "      (expand1x1): Conv2d(64, 256, kernel_size=(1, 1), stride=(1, 1))\n",
      "      (expand1x1_activation): ReLU (inplace)\n",
      "      (expand3x3): Conv2d(64, 256, kernel_size=(3, 3), stride=(1, 1), padding=(1, 1))\n",
      "      (expand3x3_activation): ReLU (inplace)\n",
      "    )\n",
      "  )\n",
      "  (classifier): Sequential (\n",
      "    (0): Dropout (p = 0.5)\n",
      "    (1): Conv2d(512, 10, kernel_size=(1, 1), stride=(1, 1))\n",
      "    (2): ReLU (inplace)\n",
      "    (3): AvgPool2d (size=13, stride=13, padding=0, ceil_mode=False, count_include_pad=True)\n",
      "  )\n",
      ")\n"
     ]
    }
   ],
   "source": [
    "squeezenet = SqueezeNet(num_classes=10, version=1.1)\n",
    "print(squeezenet)"
   ]
  },
  {
   "cell_type": "code",
   "execution_count": 18,
   "metadata": {
    "scrolled": true
   },
   "outputs": [
    {
     "name": "stdout",
     "output_type": "stream",
     "text": [
      "features.0.weight torch.Size([64, 3, 3, 3])\n",
      "features.0.bias torch.Size([64])\n",
      "features.3.squeeze.weight torch.Size([16, 64, 1, 1])\n",
      "features.3.squeeze.bias torch.Size([16])\n",
      "features.3.expand1x1.weight torch.Size([64, 16, 1, 1])\n",
      "features.3.expand1x1.bias torch.Size([64])\n",
      "features.3.expand3x3.weight torch.Size([64, 16, 3, 3])\n",
      "features.3.expand3x3.bias torch.Size([64])\n",
      "features.4.squeeze.weight torch.Size([16, 128, 1, 1])\n",
      "features.4.squeeze.bias torch.Size([16])\n",
      "features.4.expand1x1.weight torch.Size([64, 16, 1, 1])\n",
      "features.4.expand1x1.bias torch.Size([64])\n",
      "features.4.expand3x3.weight torch.Size([64, 16, 3, 3])\n",
      "features.4.expand3x3.bias torch.Size([64])\n",
      "features.6.squeeze.weight torch.Size([32, 128, 1, 1])\n",
      "features.6.squeeze.bias torch.Size([32])\n",
      "features.6.expand1x1.weight torch.Size([128, 32, 1, 1])\n",
      "features.6.expand1x1.bias torch.Size([128])\n",
      "features.6.expand3x3.weight torch.Size([128, 32, 3, 3])\n",
      "features.6.expand3x3.bias torch.Size([128])\n",
      "features.7.squeeze.weight torch.Size([32, 256, 1, 1])\n",
      "features.7.squeeze.bias torch.Size([32])\n",
      "features.7.expand1x1.weight torch.Size([128, 32, 1, 1])\n",
      "features.7.expand1x1.bias torch.Size([128])\n",
      "features.7.expand3x3.weight torch.Size([128, 32, 3, 3])\n",
      "features.7.expand3x3.bias torch.Size([128])\n",
      "features.9.squeeze.weight torch.Size([48, 256, 1, 1])\n",
      "features.9.squeeze.bias torch.Size([48])\n",
      "features.9.expand1x1.weight torch.Size([192, 48, 1, 1])\n",
      "features.9.expand1x1.bias torch.Size([192])\n",
      "features.9.expand3x3.weight torch.Size([192, 48, 3, 3])\n",
      "features.9.expand3x3.bias torch.Size([192])\n",
      "features.10.squeeze.weight torch.Size([48, 384, 1, 1])\n",
      "features.10.squeeze.bias torch.Size([48])\n",
      "features.10.expand1x1.weight torch.Size([192, 48, 1, 1])\n",
      "features.10.expand1x1.bias torch.Size([192])\n",
      "features.10.expand3x3.weight torch.Size([192, 48, 3, 3])\n",
      "features.10.expand3x3.bias torch.Size([192])\n",
      "features.11.squeeze.weight torch.Size([64, 384, 1, 1])\n",
      "features.11.squeeze.bias torch.Size([64])\n",
      "features.11.expand1x1.weight torch.Size([256, 64, 1, 1])\n",
      "features.11.expand1x1.bias torch.Size([256])\n",
      "features.11.expand3x3.weight torch.Size([256, 64, 3, 3])\n",
      "features.11.expand3x3.bias torch.Size([256])\n",
      "features.12.squeeze.weight torch.Size([64, 512, 1, 1])\n",
      "features.12.squeeze.bias torch.Size([64])\n",
      "features.12.expand1x1.weight torch.Size([256, 64, 1, 1])\n",
      "features.12.expand1x1.bias torch.Size([256])\n",
      "features.12.expand3x3.weight torch.Size([256, 64, 3, 3])\n",
      "features.12.expand3x3.bias torch.Size([256])\n",
      "classifier.1.weight torch.Size([10, 512, 1, 1])\n",
      "classifier.1.bias torch.Size([10])\n",
      "\n",
      "Total number of trainable parameters:  727626\n"
     ]
    }
   ],
   "source": [
    "print_trainable_parameters(squeezenet)"
   ]
  },
  {
   "cell_type": "markdown",
   "metadata": {},
   "source": [
    "Let's put the model on GPU if CUDA available"
   ]
  },
  {
   "cell_type": "code",
   "execution_count": 19,
   "metadata": {},
   "outputs": [],
   "source": [
    "if torch.cuda.is_available():\n",
    "    squeezenet = squeezenet.cuda()"
   ]
  },
  {
   "cell_type": "markdown",
   "metadata": {},
   "source": [
    "As we work with resized CIFAR10 images of size 42 x 42, we replace first layers that drastically reduce feature map size and adapt the last average pooling layer in order to avoid zero size feature maps. \n",
    "\n",
    "Let's see feature map sizes coming from `squeezenet.features`:\n",
    "- from the first layers before the first 'fire' module: \n",
    "    - 0: Conv2d(3, 64, kernel_size=(3, 3), stride=(2, 2))\n",
    "    - 1: ReLU (inplace)\n",
    "    - 2: MaxPool2d (size=(3, 3), stride=(2, 2), dilation=(1, 1))\n",
    "- the last layer before classification part:\n",
    "    - 12: Fire"
   ]
  },
  {
   "cell_type": "code",
   "execution_count": 20,
   "metadata": {},
   "outputs": [],
   "source": [
    "from torch.nn import AvgPool2d, Sequential, MaxPool2d, Conv2d"
   ]
  },
  {
   "cell_type": "code",
   "execution_count": 21,
   "metadata": {},
   "outputs": [
    {
     "data": {
      "text/plain": [
       "(Conv2d(3, 64, kernel_size=(3, 3), stride=(2, 2)),\n",
       " MaxPool2d (size=(3, 3), stride=(2, 2), dilation=(1, 1)))"
      ]
     },
     "execution_count": 21,
     "metadata": {},
     "output_type": "execute_result"
    }
   ],
   "source": [
    "squeezenet.features[0], squeezenet.features[2] "
   ]
  },
  {
   "cell_type": "code",
   "execution_count": 22,
   "metadata": {},
   "outputs": [
    {
     "data": {
      "text/plain": [
       "(torch.Size([1, 64, 23, 23]), torch.Size([1, 64, 11, 11]))"
      ]
     },
     "execution_count": 22,
     "metadata": {},
     "output_type": "execute_result"
    }
   ],
   "source": [
    "from torch.autograd import Variable\n",
    "\n",
    "test_random_x = Variable(torch.randn(1, 3, 48, 48))\n",
    "if torch.cuda.is_available():\n",
    "    test_random_x.data = test_random_x.data.pin_memory()\n",
    "    test_random_x = test_random_x.cuda(async=True)\n",
    "    \n",
    "squeezenet.eval()\n",
    "test_output_y0 = squeezenet.features[0](test_random_x)\n",
    "test_output_y1 = Sequential(squeezenet.features[0], squeezenet.features[1], squeezenet.features[2])(test_random_x)\n",
    "test_output_y0.size(), test_output_y1.size()"
   ]
  },
  {
   "cell_type": "markdown",
   "metadata": {},
   "source": [
    "Let's replace first layers : \n",
    "- `Conv2d (3, 64, kernel_size=(3, 3), stride=(2, 2))` by `Conv2d(3, 64, kernel_size=(3, 3), stride=(1, 1), padding=1)`\n",
    "- remove `MaxPool2d (size=(3, 3), stride=(2, 2), dilation=(1, 1)))`"
   ]
  },
  {
   "cell_type": "code",
   "execution_count": 23,
   "metadata": {},
   "outputs": [],
   "source": [
    "layers = [l for i, l in enumerate(squeezenet.features) if i != 2]\n",
    "layers[0] = Conv2d(3, 64, kernel_size=(3, 3), padding=1)\n",
    "\n",
    "squeezenet.features = Sequential(*layers)"
   ]
  },
  {
   "cell_type": "code",
   "execution_count": 24,
   "metadata": {
    "scrolled": true
   },
   "outputs": [
    {
     "name": "stdout",
     "output_type": "stream",
     "text": [
      "SqueezeNet (\n",
      "  (features): Sequential (\n",
      "    (0): Conv2d(3, 64, kernel_size=(3, 3), stride=(1, 1), padding=(1, 1))\n",
      "    (1): ReLU (inplace)\n",
      "    (2): Fire (\n",
      "      (squeeze): Conv2d(64, 16, kernel_size=(1, 1), stride=(1, 1))\n",
      "      (squeeze_activation): ReLU (inplace)\n",
      "      (expand1x1): Conv2d(16, 64, kernel_size=(1, 1), stride=(1, 1))\n",
      "      (expand1x1_activation): ReLU (inplace)\n",
      "      (expand3x3): Conv2d(16, 64, kernel_size=(3, 3), stride=(1, 1), padding=(1, 1))\n",
      "      (expand3x3_activation): ReLU (inplace)\n",
      "    )\n",
      "    (3): Fire (\n",
      "      (squeeze): Conv2d(128, 16, kernel_size=(1, 1), stride=(1, 1))\n",
      "      (squeeze_activation): ReLU (inplace)\n",
      "      (expand1x1): Conv2d(16, 64, kernel_size=(1, 1), stride=(1, 1))\n",
      "      (expand1x1_activation): ReLU (inplace)\n",
      "      (expand3x3): Conv2d(16, 64, kernel_size=(3, 3), stride=(1, 1), padding=(1, 1))\n",
      "      (expand3x3_activation): ReLU (inplace)\n",
      "    )\n",
      "    (4): MaxPool2d (size=(3, 3), stride=(2, 2), dilation=(1, 1))\n",
      "    (5): Fire (\n",
      "      (squeeze): Conv2d(128, 32, kernel_size=(1, 1), stride=(1, 1))\n",
      "      (squeeze_activation): ReLU (inplace)\n",
      "      (expand1x1): Conv2d(32, 128, kernel_size=(1, 1), stride=(1, 1))\n",
      "      (expand1x1_activation): ReLU (inplace)\n",
      "      (expand3x3): Conv2d(32, 128, kernel_size=(3, 3), stride=(1, 1), padding=(1, 1))\n",
      "      (expand3x3_activation): ReLU (inplace)\n",
      "    )\n",
      "    (6): Fire (\n",
      "      (squeeze): Conv2d(256, 32, kernel_size=(1, 1), stride=(1, 1))\n",
      "      (squeeze_activation): ReLU (inplace)\n",
      "      (expand1x1): Conv2d(32, 128, kernel_size=(1, 1), stride=(1, 1))\n",
      "      (expand1x1_activation): ReLU (inplace)\n",
      "      (expand3x3): Conv2d(32, 128, kernel_size=(3, 3), stride=(1, 1), padding=(1, 1))\n",
      "      (expand3x3_activation): ReLU (inplace)\n",
      "    )\n",
      "    (7): MaxPool2d (size=(3, 3), stride=(2, 2), dilation=(1, 1))\n",
      "    (8): Fire (\n",
      "      (squeeze): Conv2d(256, 48, kernel_size=(1, 1), stride=(1, 1))\n",
      "      (squeeze_activation): ReLU (inplace)\n",
      "      (expand1x1): Conv2d(48, 192, kernel_size=(1, 1), stride=(1, 1))\n",
      "      (expand1x1_activation): ReLU (inplace)\n",
      "      (expand3x3): Conv2d(48, 192, kernel_size=(3, 3), stride=(1, 1), padding=(1, 1))\n",
      "      (expand3x3_activation): ReLU (inplace)\n",
      "    )\n",
      "    (9): Fire (\n",
      "      (squeeze): Conv2d(384, 48, kernel_size=(1, 1), stride=(1, 1))\n",
      "      (squeeze_activation): ReLU (inplace)\n",
      "      (expand1x1): Conv2d(48, 192, kernel_size=(1, 1), stride=(1, 1))\n",
      "      (expand1x1_activation): ReLU (inplace)\n",
      "      (expand3x3): Conv2d(48, 192, kernel_size=(3, 3), stride=(1, 1), padding=(1, 1))\n",
      "      (expand3x3_activation): ReLU (inplace)\n",
      "    )\n",
      "    (10): Fire (\n",
      "      (squeeze): Conv2d(384, 64, kernel_size=(1, 1), stride=(1, 1))\n",
      "      (squeeze_activation): ReLU (inplace)\n",
      "      (expand1x1): Conv2d(64, 256, kernel_size=(1, 1), stride=(1, 1))\n",
      "      (expand1x1_activation): ReLU (inplace)\n",
      "      (expand3x3): Conv2d(64, 256, kernel_size=(3, 3), stride=(1, 1), padding=(1, 1))\n",
      "      (expand3x3_activation): ReLU (inplace)\n",
      "    )\n",
      "    (11): Fire (\n",
      "      (squeeze): Conv2d(512, 64, kernel_size=(1, 1), stride=(1, 1))\n",
      "      (squeeze_activation): ReLU (inplace)\n",
      "      (expand1x1): Conv2d(64, 256, kernel_size=(1, 1), stride=(1, 1))\n",
      "      (expand1x1_activation): ReLU (inplace)\n",
      "      (expand3x3): Conv2d(64, 256, kernel_size=(3, 3), stride=(1, 1), padding=(1, 1))\n",
      "      (expand3x3_activation): ReLU (inplace)\n",
      "    )\n",
      "  )\n",
      "  (classifier): Sequential (\n",
      "    (0): Dropout (p = 0.5)\n",
      "    (1): Conv2d(512, 10, kernel_size=(1, 1), stride=(1, 1))\n",
      "    (2): ReLU (inplace)\n",
      "    (3): AvgPool2d (size=13, stride=13, padding=0, ceil_mode=False, count_include_pad=True)\n",
      "  )\n",
      ")\n"
     ]
    }
   ],
   "source": [
    "print(squeezenet)"
   ]
  },
  {
   "cell_type": "code",
   "execution_count": 25,
   "metadata": {},
   "outputs": [],
   "source": [
    "if torch.cuda.is_available():\n",
    "    squeezenet = squeezenet.cuda()"
   ]
  },
  {
   "cell_type": "code",
   "execution_count": 26,
   "metadata": {},
   "outputs": [
    {
     "data": {
      "text/plain": [
       "torch.Size([1, 512, 10, 10])"
      ]
     },
     "execution_count": 26,
     "metadata": {},
     "output_type": "execute_result"
    }
   ],
   "source": [
    "from torch.autograd import Variable\n",
    "\n",
    "test_random_x = Variable(torch.randn(1, 3, 42, 42))\n",
    "if torch.cuda.is_available():\n",
    "    test_random_x.data = test_random_x.data.pin_memory()\n",
    "    test_random_x = test_random_x.cuda(async=True)\n",
    "\n",
    "squeezenet.eval()\n",
    "test_output_y = squeezenet.features(test_random_x)\n",
    "test_output_y.size()"
   ]
  },
  {
   "cell_type": "code",
   "execution_count": 27,
   "metadata": {},
   "outputs": [],
   "source": [
    "from torch.nn import AvgPool2d, Sequential\n",
    "\n",
    "layers = [l for l in squeezenet.classifier]\n",
    "layers[-1] = AvgPool2d(10)\n",
    "\n",
    "squeezenet.classifier = Sequential(*layers)"
   ]
  },
  {
   "cell_type": "code",
   "execution_count": 28,
   "metadata": {
    "scrolled": true
   },
   "outputs": [
    {
     "name": "stdout",
     "output_type": "stream",
     "text": [
      "SqueezeNet (\n",
      "  (features): Sequential (\n",
      "    (0): Conv2d(3, 64, kernel_size=(3, 3), stride=(1, 1), padding=(1, 1))\n",
      "    (1): ReLU (inplace)\n",
      "    (2): Fire (\n",
      "      (squeeze): Conv2d(64, 16, kernel_size=(1, 1), stride=(1, 1))\n",
      "      (squeeze_activation): ReLU (inplace)\n",
      "      (expand1x1): Conv2d(16, 64, kernel_size=(1, 1), stride=(1, 1))\n",
      "      (expand1x1_activation): ReLU (inplace)\n",
      "      (expand3x3): Conv2d(16, 64, kernel_size=(3, 3), stride=(1, 1), padding=(1, 1))\n",
      "      (expand3x3_activation): ReLU (inplace)\n",
      "    )\n",
      "    (3): Fire (\n",
      "      (squeeze): Conv2d(128, 16, kernel_size=(1, 1), stride=(1, 1))\n",
      "      (squeeze_activation): ReLU (inplace)\n",
      "      (expand1x1): Conv2d(16, 64, kernel_size=(1, 1), stride=(1, 1))\n",
      "      (expand1x1_activation): ReLU (inplace)\n",
      "      (expand3x3): Conv2d(16, 64, kernel_size=(3, 3), stride=(1, 1), padding=(1, 1))\n",
      "      (expand3x3_activation): ReLU (inplace)\n",
      "    )\n",
      "    (4): MaxPool2d (size=(3, 3), stride=(2, 2), dilation=(1, 1))\n",
      "    (5): Fire (\n",
      "      (squeeze): Conv2d(128, 32, kernel_size=(1, 1), stride=(1, 1))\n",
      "      (squeeze_activation): ReLU (inplace)\n",
      "      (expand1x1): Conv2d(32, 128, kernel_size=(1, 1), stride=(1, 1))\n",
      "      (expand1x1_activation): ReLU (inplace)\n",
      "      (expand3x3): Conv2d(32, 128, kernel_size=(3, 3), stride=(1, 1), padding=(1, 1))\n",
      "      (expand3x3_activation): ReLU (inplace)\n",
      "    )\n",
      "    (6): Fire (\n",
      "      (squeeze): Conv2d(256, 32, kernel_size=(1, 1), stride=(1, 1))\n",
      "      (squeeze_activation): ReLU (inplace)\n",
      "      (expand1x1): Conv2d(32, 128, kernel_size=(1, 1), stride=(1, 1))\n",
      "      (expand1x1_activation): ReLU (inplace)\n",
      "      (expand3x3): Conv2d(32, 128, kernel_size=(3, 3), stride=(1, 1), padding=(1, 1))\n",
      "      (expand3x3_activation): ReLU (inplace)\n",
      "    )\n",
      "    (7): MaxPool2d (size=(3, 3), stride=(2, 2), dilation=(1, 1))\n",
      "    (8): Fire (\n",
      "      (squeeze): Conv2d(256, 48, kernel_size=(1, 1), stride=(1, 1))\n",
      "      (squeeze_activation): ReLU (inplace)\n",
      "      (expand1x1): Conv2d(48, 192, kernel_size=(1, 1), stride=(1, 1))\n",
      "      (expand1x1_activation): ReLU (inplace)\n",
      "      (expand3x3): Conv2d(48, 192, kernel_size=(3, 3), stride=(1, 1), padding=(1, 1))\n",
      "      (expand3x3_activation): ReLU (inplace)\n",
      "    )\n",
      "    (9): Fire (\n",
      "      (squeeze): Conv2d(384, 48, kernel_size=(1, 1), stride=(1, 1))\n",
      "      (squeeze_activation): ReLU (inplace)\n",
      "      (expand1x1): Conv2d(48, 192, kernel_size=(1, 1), stride=(1, 1))\n",
      "      (expand1x1_activation): ReLU (inplace)\n",
      "      (expand3x3): Conv2d(48, 192, kernel_size=(3, 3), stride=(1, 1), padding=(1, 1))\n",
      "      (expand3x3_activation): ReLU (inplace)\n",
      "    )\n",
      "    (10): Fire (\n",
      "      (squeeze): Conv2d(384, 64, kernel_size=(1, 1), stride=(1, 1))\n",
      "      (squeeze_activation): ReLU (inplace)\n",
      "      (expand1x1): Conv2d(64, 256, kernel_size=(1, 1), stride=(1, 1))\n",
      "      (expand1x1_activation): ReLU (inplace)\n",
      "      (expand3x3): Conv2d(64, 256, kernel_size=(3, 3), stride=(1, 1), padding=(1, 1))\n",
      "      (expand3x3_activation): ReLU (inplace)\n",
      "    )\n",
      "    (11): Fire (\n",
      "      (squeeze): Conv2d(512, 64, kernel_size=(1, 1), stride=(1, 1))\n",
      "      (squeeze_activation): ReLU (inplace)\n",
      "      (expand1x1): Conv2d(64, 256, kernel_size=(1, 1), stride=(1, 1))\n",
      "      (expand1x1_activation): ReLU (inplace)\n",
      "      (expand3x3): Conv2d(64, 256, kernel_size=(3, 3), stride=(1, 1), padding=(1, 1))\n",
      "      (expand3x3_activation): ReLU (inplace)\n",
      "    )\n",
      "  )\n",
      "  (classifier): Sequential (\n",
      "    (0): Dropout (p = 0.5)\n",
      "    (1): Conv2d(512, 10, kernel_size=(1, 1), stride=(1, 1))\n",
      "    (2): ReLU (inplace)\n",
      "    (3): AvgPool2d (size=10, stride=10, padding=0, ceil_mode=False, count_include_pad=True)\n",
      "  )\n",
      ")\n"
     ]
    }
   ],
   "source": [
    "print(squeezenet)"
   ]
  },
  {
   "cell_type": "markdown",
   "metadata": {},
   "source": [
    "As we can see from previous prints, the last layer of the model is average pooling and the output of the forward pass is logits and not yet probabilities of classes:"
   ]
  },
  {
   "cell_type": "code",
   "execution_count": 29,
   "metadata": {},
   "outputs": [
    {
     "data": {
      "text/plain": [
       "Variable containing:\n",
       " 0.0655  0.1968  0.0000  0.0957  0.0084  0.1635  0.2867  0.0758  0.0000  0.0000\n",
       "[torch.cuda.FloatTensor of size 1x10 (GPU 0)]"
      ]
     },
     "execution_count": 29,
     "metadata": {},
     "output_type": "execute_result"
    }
   ],
   "source": [
    "from torch.autograd import Variable\n",
    "\n",
    "test_random_x = Variable(torch.randn(1, 3, 48, 48))\n",
    "if torch.cuda.is_available():\n",
    "    test_random_x.data = test_random_x.data.pin_memory()\n",
    "    test_random_x = test_random_x.cuda(async=True)\n",
    "\n",
    "squeezenet.eval()\n",
    "test_output_y = squeezenet(test_random_x)\n",
    "test_output_y"
   ]
  },
  {
   "cell_type": "code",
   "execution_count": null,
   "metadata": {},
   "outputs": [],
   "source": []
  },
  {
   "cell_type": "markdown",
   "metadata": {},
   "source": [
    "## Setup loss function and optimizer\n",
    "\n",
    "Let's choose classical cross-entropy loss function for this multiclass classification task and Adam as an optimizer."
   ]
  },
  {
   "cell_type": "code",
   "execution_count": 30,
   "metadata": {},
   "outputs": [],
   "source": [
    "from torch.nn import CrossEntropyLoss\n",
    "from torch.optim import Adam"
   ]
  },
  {
   "cell_type": "code",
   "execution_count": 31,
   "metadata": {},
   "outputs": [],
   "source": [
    "# define loss function (criterion) and optimizer\n",
    "criterion = CrossEntropyLoss()\n",
    "if torch.cuda.is_available():\n",
    "    criterion = CrossEntropyLoss().cuda()\n",
    "optimizer = Adam(squeezenet.parameters())"
   ]
  },
  {
   "cell_type": "markdown",
   "metadata": {},
   "source": [
    "Note that CrossEntropyLoss:\n",
    "\n",
    "> This criterion combines `LogSoftMax` and `NLLLoss` in one single class.\n",
    "> It is useful when training a classification problem with `n` classes.\n",
    "\n",
    "> The `input` is expected to contain scores for each class.\n",
    "> `input` has to be a 2D `Tensor` of size `batch x n`.\n",
    "\n",
    "> This criterion expects a class index (0 to nClasses-1) as the\n",
    "> `target` for each value of a 1D tensor of size `n`\n",
    "\n",
    ">    The loss can be described as:\n",
    "$$\n",
    "        loss(x, class) = -log(exp(x[class]) / (\\sum_j exp(x[j])))\n",
    "                       = -x[class] + log(\\sum_j exp(x[j]))\n",
    "$$"
   ]
  },
  {
   "cell_type": "markdown",
   "metadata": {},
   "source": [
    "Let's check loss function computation:"
   ]
  },
  {
   "cell_type": "code",
   "execution_count": 32,
   "metadata": {},
   "outputs": [
    {
     "name": "stdout",
     "output_type": "stream",
     "text": [
      "<class 'torch.cuda.LongTensor'> <class 'torch.cuda.FloatTensor'> torch.Size([64]) torch.Size([64, 10])\n",
      "Loss :  \n",
      " 2.3020\n",
      "[torch.cuda.FloatTensor of size 1 (GPU 0)]\n",
      "\n"
     ]
    }
   ],
   "source": [
    "squeezenet.eval()\n",
    "\n",
    "for i, (batch_x, batch_y) in enumerate(train_batches_ds):\n",
    "    \n",
    "    batch_x = Variable(batch_x, requires_grad=True)\n",
    "    batch_y = Variable(batch_y)\n",
    "    batch_y_pred = squeezenet(batch_x)\n",
    "    print(type(batch_y.data), type(batch_y_pred.data), batch_y.size(), batch_y_pred.size())\n",
    "    loss = criterion(batch_y_pred, batch_y)\n",
    "    print(\"Loss : \", loss.data)\n",
    "    break"
   ]
  },
  {
   "cell_type": "code",
   "execution_count": null,
   "metadata": {},
   "outputs": [],
   "source": []
  },
  {
   "cell_type": "markdown",
   "metadata": {},
   "source": [
    "## Setup training pipeline\n",
    "\n",
    "Typical pipeline: \n",
    "- loops over training dataset during `n_epochs`\n",
    "    - computes values of the loss function, accuracy, other metrics on train batches\n",
    "- runs validation phase on validation dataset when training epoch ends\n",
    "    - computes values of the loss function, accuracy, other metrics on whole validation dataset\n",
    "- save on the disk the best model defined by a metric\n",
    "- performs learning rate scheduling on each training epoch\n",
    "\n",
    "\n",
    "Next, there are two ways:\n",
    "- copy/modify code from examples: i.e. [link](https://github.com/pytorch/examples/blob/master/imagenet/main.py)\n",
    "- use [torchsample](https://github.com/ncullen93/torchsample) or [tnt](https://github.com/pytorch/tnt) ...\n",
    "\n",
    "Here we choose the first way and explicitly code a training pipeline based on various available examples.\n",
    "Let's first define methods called in the training loop:"
   ]
  },
  {
   "cell_type": "code",
   "execution_count": 33,
   "metadata": {},
   "outputs": [],
   "source": [
    "from common_utils.training_utils import AverageMeter, accuracy, save_checkpoint\n",
    "from common_utils.training_utils import train_one_epoch, validate"
   ]
  },
  {
   "cell_type": "code",
   "execution_count": 34,
   "metadata": {},
   "outputs": [],
   "source": [
    "train_one_epoch??"
   ]
  },
  {
   "cell_type": "code",
   "execution_count": 35,
   "metadata": {},
   "outputs": [],
   "source": [
    "validate??"
   ]
  },
  {
   "cell_type": "code",
   "execution_count": 36,
   "metadata": {},
   "outputs": [],
   "source": [
    "from torch.optim.lr_scheduler import ExponentialLR, ReduceLROnPlateau\n",
    "scheduler = ExponentialLR(optimizer, gamma=0.95)"
   ]
  },
  {
   "cell_type": "markdown",
   "metadata": {},
   "source": [
    "### Now we can start training"
   ]
  },
  {
   "cell_type": "code",
   "execution_count": 37,
   "metadata": {},
   "outputs": [],
   "source": [
    "start_epoch = 0 \n",
    "n_epochs = 10\n",
    "model = squeezenet\n",
    "init_lr = 0.0001"
   ]
  },
  {
   "cell_type": "code",
   "execution_count": 38,
   "metadata": {},
   "outputs": [
    {
     "data": {
      "text/plain": [
       "False"
      ]
     },
     "execution_count": 38,
     "metadata": {},
     "output_type": "execute_result"
    }
   ],
   "source": [
    "from torch.backends import cudnn\n",
    "cudnn.benchmark"
   ]
  },
  {
   "cell_type": "markdown",
   "metadata": {},
   "source": [
    "> What does torch.backends.cudnn.benchmark do? [url](https://discuss.pytorch.org/t/what-does-torch-backends-cudnn-benchmark-do/5936/2)"
   ]
  },
  {
   "cell_type": "code",
   "execution_count": 39,
   "metadata": {},
   "outputs": [],
   "source": [
    "cudnn.benchmark = True"
   ]
  },
  {
   "cell_type": "code",
   "execution_count": 40,
   "metadata": {},
   "outputs": [],
   "source": [
    "optimizer = Adam(squeezenet.parameters(), lr=init_lr)"
   ]
  },
  {
   "cell_type": "code",
   "execution_count": 41,
   "metadata": {
    "scrolled": true
   },
   "outputs": [
    {
     "name": "stderr",
     "output_type": "stream",
     "text": [
      "Epoch: 1/10: 100%|##########| 625/625 [00:24<00:00, 25.64it/s, Loss 1.9555 | accuracy 25.645]\n",
      "100%|##########| 156/156 [00:04<00:00, 36.99it/s, Loss 1.7940 | accuracy 33.814]\n",
      "Epoch: 2/10: 100%|##########| 625/625 [00:24<00:00, 26.01it/s, Loss 1.7237 | accuracy 36.190]\n",
      "100%|##########| 156/156 [00:04<00:00, 37.31it/s, Loss 1.6417 | accuracy 40.014]\n",
      "Epoch: 3/10: 100%|##########| 625/625 [00:23<00:00, 26.09it/s, Loss 1.6216 | accuracy 40.570]\n",
      "100%|##########| 156/156 [00:04<00:00, 37.04it/s, Loss 1.6617 | accuracy 39.093]\n",
      "Epoch: 4/10: 100%|##########| 625/625 [00:23<00:00, 26.11it/s, Loss 1.5548 | accuracy 43.110]\n",
      "100%|##########| 156/156 [00:04<00:00, 37.17it/s, Loss 1.5360 | accuracy 44.081]\n",
      "Epoch: 5/10: 100%|##########| 625/625 [00:23<00:00, 26.36it/s, Loss 1.4966 | accuracy 45.535]\n",
      "100%|##########| 156/156 [00:04<00:00, 37.22it/s, Loss 1.5705 | accuracy 43.279]\n",
      "Epoch: 6/10: 100%|##########| 625/625 [00:23<00:00, 26.25it/s, Loss 1.4552 | accuracy 47.265]\n",
      "100%|##########| 156/156 [00:04<00:00, 37.19it/s, Loss 1.4185 | accuracy 49.018]\n",
      "Epoch: 7/10: 100%|##########| 625/625 [00:23<00:00, 26.20it/s, Loss 1.4064 | accuracy 48.898]\n",
      "100%|##########| 156/156 [00:04<00:00, 37.17it/s, Loss 1.3953 | accuracy 49.559]\n",
      "Epoch: 8/10: 100%|##########| 625/625 [00:23<00:00, 26.18it/s, Loss 1.3777 | accuracy 50.255]\n",
      "100%|##########| 156/156 [00:04<00:00, 37.24it/s, Loss 1.3145 | accuracy 52.815]\n",
      "Epoch: 9/10: 100%|##########| 625/625 [00:23<00:00, 26.43it/s, Loss 1.3419 | accuracy 51.413]\n",
      "100%|##########| 156/156 [00:04<00:00, 37.17it/s, Loss 1.3736 | accuracy 50.541]\n",
      "Epoch: 10/10: 100%|##########| 625/625 [00:23<00:00, 26.29it/s, Loss 1.3133 | accuracy 52.575]\n",
      "100%|##########| 156/156 [00:04<00:00, 37.36it/s, Loss 1.3058 | accuracy 53.245]\n"
     ]
    }
   ],
   "source": [
    "from datetime import datetime\n",
    "\n",
    "\n",
    "best_acc = 0\n",
    "now = datetime.now()\n",
    "\n",
    "if not os.path.exists('logs'):\n",
    "    os.makedirs('logs')\n",
    "    \n",
    "logs_path = os.path.join('logs', 'cifar10_squeezenet_%s' % now.strftime(\"%Y%m%d_%H%M\"))\n",
    "if not os.path.exists(logs_path):\n",
    "    os.makedirs(logs_path)    \n",
    "\n",
    "    \n",
    "for epoch in range(start_epoch, n_epochs):\n",
    "    \n",
    "    scheduler.step()\n",
    "\n",
    "    # train for one epoch\n",
    "    ret = train_one_epoch(model, train_batches_ds, criterion, optimizer, epoch, n_epochs, avg_metrics=[accuracy, ])\n",
    "    if ret is None:\n",
    "        break\n",
    "    loss, acc = ret\n",
    "\n",
    "    # evaluate on validation set\n",
    "    ret = validate(model, val_batches_ds, criterion, avg_metrics=[accuracy, ])\n",
    "    if ret is None:\n",
    "        break\n",
    "    val_loss, val_acc = ret\n",
    "\n",
    "    # remember best accuracy and save checkpoint\n",
    "    if val_acc > best_acc:\n",
    "        best_acc = max(val_acc, best_acc)\n",
    "        save_checkpoint(logs_path, 'val_acc', {\n",
    "            'epoch': epoch + 1,\n",
    "            'state_dict': model.state_dict(),\n",
    "            'val_acc': val_acc,\n",
    "            'optimizer' : optimizer.state_dict()})"
   ]
  },
  {
   "cell_type": "code",
   "execution_count": null,
   "metadata": {},
   "outputs": [],
   "source": []
  },
  {
   "cell_type": "markdown",
   "metadata": {},
   "source": [
    "### Inference\n",
    "\n",
    "Let's upload the best saved model and run inference on the testing dataset"
   ]
  },
  {
   "cell_type": "code",
   "execution_count": 48,
   "metadata": {},
   "outputs": [],
   "source": [
    "from common_utils.training_utils import load_checkpoint\n",
    "\n",
    "from glob import glob"
   ]
  },
  {
   "cell_type": "code",
   "execution_count": 49,
   "metadata": {},
   "outputs": [],
   "source": [
    "saved_model_filenames = glob(os.path.join(logs_path, \"model_val_acc=*\"))\n",
    "assert len(saved_model_filenames) > 0"
   ]
  },
  {
   "cell_type": "code",
   "execution_count": 52,
   "metadata": {},
   "outputs": [
    {
     "name": "stdout",
     "output_type": "stream",
     "text": [
      "Load checkpoint: logs/cifar10_squeezenet_20171122_0756/model_val_acc=62.0092.pth.tar\n"
     ]
    }
   ],
   "source": [
    "saved_model_filename = saved_model_filenames[0]\n",
    "\n",
    "load_checkpoint(saved_model_filename, squeezenet)"
   ]
  },
  {
   "cell_type": "code",
   "execution_count": 54,
   "metadata": {},
   "outputs": [
    {
     "name": "stderr",
     "output_type": "stream",
     "text": [
      "100%|##########| 156/156 [00:04<00:00, 36.58it/s, Loss 1.0840 | accuracy 62.470]\n"
     ]
    },
    {
     "data": {
      "text/plain": [
       "62.46995192307692"
      ]
     },
     "execution_count": 54,
     "metadata": {},
     "output_type": "execute_result"
    }
   ],
   "source": [
    "# evaluate on validation set\n",
    "test_loss, test_acc = validate(squeezenet, test_batches_ds, criterion, avg_metrics=[accuracy, ])\n",
    "test_acc"
   ]
  },
  {
   "cell_type": "code",
   "execution_count": null,
   "metadata": {},
   "outputs": [],
   "source": []
  },
  {
   "cell_type": "code",
   "execution_count": null,
   "metadata": {},
   "outputs": [],
   "source": []
  }
 ],
 "metadata": {
  "kernelspec": {
   "display_name": "Python 3",
   "language": "python",
   "name": "python3"
  },
  "language_info": {
   "codemirror_mode": {
    "name": "ipython",
    "version": 3
   },
   "file_extension": ".py",
   "mimetype": "text/x-python",
   "name": "python",
   "nbconvert_exporter": "python",
   "pygments_lexer": "ipython3",
   "version": "3.5.2"
  }
 },
 "nbformat": 4,
 "nbformat_minor": 2
}
